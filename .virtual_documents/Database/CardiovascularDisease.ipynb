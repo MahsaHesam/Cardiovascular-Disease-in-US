import sqlite3
import pandas as pd
import numpy as np
import matplotlib.pyplot as plt
import warnings
warnings.filterwarnings('ignore')
import scipy.stats as stats
import csv


# Create a connection to the database (use context manager)
with sqlite3.connect('CardiovascularDisease.db') as conn:

    # Create the table (if not exists)
    create_table = """
    CREATE TABLE IF NOT EXISTS Heart_disease_data (
        US_States TEXT,
        Year TEXT,
        Ethnicity TEXT,
        Gender TEXT,
        Heart_Disease_Type TEXT,
        Age_range TEXT,
        Data_Value_100_000 People TEXT
    );
    """
    conn.execute(create_table_sql)


# Define the base path for CSV file
base_path = "../Averaged_Cleaned_filtered_data.csv"

# Read the CSV data using pandas
df = pd.read_csv(base_path)
conn.execute("DROP TABLE IF EXISTS Heart_disease_data;")

# Insert data efficiently using to_sql method with appropriate index
df.to_sql('Heart_disease_data', conn, index=False)  

# Read data from the table
query = "SELECT * FROM Heart_disease_data"
data = pd.read_sql_query(query, conn)

# Print DataFrame 
data.head() 




